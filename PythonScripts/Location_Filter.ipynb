{
 "cells": [
  {
   "cell_type": "code",
   "execution_count": 1,
   "metadata": {},
   "outputs": [],
   "source": [
    "import glob\n",
    "import errno\n",
    "import os.path\n",
    "import re\n",
    "import pandas as pd\n",
    "from decimal import *"
   ]
  },
  {
   "cell_type": "code",
   "execution_count": 2,
   "metadata": {},
   "outputs": [],
   "source": [
    "path = 'C:/Users/Katelyn Yu/Documents/GitHub/CE299_Scripts/PurpleAir/*.csv'\n",
    "files = glob.glob(path)\n",
    "save_path = 'C:/Users/Katelyn Yu/Documents/GitHub/CE299_Scripts/'"
   ]
  },
  {
   "cell_type": "code",
   "execution_count": 3,
   "metadata": {},
   "outputs": [
    {
     "ename": "IndexError",
     "evalue": "list index out of range",
     "output_type": "error",
     "traceback": [
      "\u001b[1;31m---------------------------------------------------------------------------\u001b[0m",
      "\u001b[1;31mIndexError\u001b[0m                                Traceback (most recent call last)",
      "\u001b[1;32m<ipython-input-3-9727a00a2ad8>\u001b[0m in \u001b[0;36m<module>\u001b[1;34m\u001b[0m\n\u001b[0;32m     17\u001b[0m     \u001b[1;31m# Get sensor name.\u001b[0m\u001b[1;33m\u001b[0m\u001b[1;33m\u001b[0m\u001b[1;33m\u001b[0m\u001b[0m\n\u001b[0;32m     18\u001b[0m     \u001b[0msplit_sensor\u001b[0m \u001b[1;33m=\u001b[0m \u001b[0msplit_name\u001b[0m\u001b[1;33m[\u001b[0m\u001b[1;36m0\u001b[0m\u001b[1;33m]\u001b[0m\u001b[1;33m.\u001b[0m\u001b[0msplit\u001b[0m\u001b[1;33m(\u001b[0m\u001b[1;34m'/'\u001b[0m\u001b[1;33m)\u001b[0m\u001b[1;33m\u001b[0m\u001b[1;33m\u001b[0m\u001b[0m\n\u001b[1;32m---> 19\u001b[1;33m     \u001b[0msensor_name\u001b[0m \u001b[1;33m=\u001b[0m \u001b[0msplit_sensor\u001b[0m\u001b[1;33m[\u001b[0m\u001b[1;36m9\u001b[0m\u001b[1;33m]\u001b[0m\u001b[1;33m\u001b[0m\u001b[1;33m\u001b[0m\u001b[0m\n\u001b[0m\u001b[0;32m     20\u001b[0m     \u001b[1;31m#sensor_name_list.append(sensor_name)\u001b[0m\u001b[1;33m\u001b[0m\u001b[1;33m\u001b[0m\u001b[1;33m\u001b[0m\u001b[0m\n\u001b[0;32m     21\u001b[0m \u001b[1;33m\u001b[0m\u001b[0m\n",
      "\u001b[1;31mIndexError\u001b[0m: list index out of range"
     ]
    }
   ],
   "source": [
    "c = 1 # Counter. Comment out when running full folder.\n",
    "sensor_name_list = []\n",
    "lat_list = []\n",
    "lon_list = []\n",
    "except_list = []\n",
    "ex_list = []\n",
    "else_list = []\n",
    "\n",
    "for name in files:\n",
    "    split_name = re.split('\\)|\\(', name)\n",
    "    \n",
    "    # Get lat and long in a list format.\n",
    "    lat_lon = split_name[1].split(' ')\n",
    "    #lat_list.append(lat_lon[0])\n",
    "    #lon_list.append(lat_lon[1])\n",
    "    \n",
    "    # Get sensor name.\n",
    "    split_sensor = split_name[0].split('/')\n",
    "    sensor_name = split_sensor[9]\n",
    "    #sensor_name_list.append(sensor_name)\n",
    "    \n",
    "    # Create DataFrame with Sensor name and Lat_lon as columns.\n",
    "    #columns = ['sensor_name', 'latitude', 'longitude']\n",
    "    #data = list(zip(sensor_name_list, lat_list, lon_list))\n",
    "    #sensor_df = pd.DataFrame(data, columns = columns)\n",
    "    \n",
    "    # Points that define desired location.\n",
    "    p1 = (40.3, -124.0) # NW\n",
    "    p2 = (40.3, -119.5) # NE\n",
    "    p3 = (36.5, -124.0) # SW\n",
    "    p4 = (36.5, -119.5) # SE\n",
    "    \n",
    "    try:\n",
    "        # Filter out files in the range and \\ add to a new folder.\n",
    "        lat = Decimal(lat_lon[0])\n",
    "        lon = Decimal(lat_lon[1])\n",
    "\n",
    "        if lat < 40.3 and lat > 36.5 and lon < -119.5 and lon > -124.0:\n",
    "            file_name = str(sensor_name) + '_' + str(lat) + '_' + str(lon) + '.csv' # Create new file name.\n",
    "            ex_list.append(('1', file_name)) # For counting how many times this was executed.\n",
    "            complete_name = os.path.join(save_path, file_name)\n",
    "            n = open(complete_name, 'w+') # Open file to be written to.\n",
    "            file = open(name, 'r') # Open current file.\n",
    "            for line in file:\n",
    "                n.write(line)\n",
    "            n.close()\n",
    "        else:\n",
    "            else_list.append('1') # Count how many sensors outside box.\n",
    "    except:\n",
    "        except_list.append((lat_lon[0])) # For counting how many exceptions there were.\n",
    "        \n",
    "    if c == 5:\n",
    "        break\n",
    "    \n",
    "    #c += 1"
   ]
  },
  {
   "cell_type": "code",
   "execution_count": 56,
   "metadata": {},
   "outputs": [
    {
     "name": "stdout",
     "output_type": "stream",
     "text": [
      "209 exceptions.\n",
      "1689 within box.\n",
      "7857 outside box.\n"
     ]
    }
   ],
   "source": [
    "print(str(len(except_list)) + ' exceptions.') \n",
    "print(str(len(ex_list)) + ' within box.')\n",
    "print(str(len(else_list)) + ' outside box.')"
   ]
  },
  {
   "cell_type": "code",
   "execution_count": 7,
   "metadata": {},
   "outputs": [],
   "source": [
    "# Create csv from sensor_df. Kind of janky.\n",
    "csv_path = '/Users/Alex/Desktop/UCBerkeley/Spring 2019/CE 299_Research/Smoke Plumes/'\n",
    "file_name = 'sensor_df.csv'\n",
    "complete_name = os.path.join(csv_path, file_name)\n",
    "n = open(complete_name, 'w+')\n",
    "df_string = sensor_df.to_csv()\n",
    "n.write(df_string)\n",
    "n.close()"
   ]
  },
  {
   "cell_type": "code",
   "execution_count": null,
   "metadata": {},
   "outputs": [],
   "source": []
  }
 ],
 "metadata": {
  "kernelspec": {
   "display_name": "Python 3",
   "language": "python",
   "name": "python3"
  },
  "language_info": {
   "codemirror_mode": {
    "name": "ipython",
    "version": 3
   },
   "file_extension": ".py",
   "mimetype": "text/x-python",
   "name": "python",
   "nbconvert_exporter": "python",
   "pygments_lexer": "ipython3",
   "version": "3.7.4"
  }
 },
 "nbformat": 4,
 "nbformat_minor": 2
}
