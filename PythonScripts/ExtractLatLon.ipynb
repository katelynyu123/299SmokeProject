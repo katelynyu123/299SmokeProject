{
 "cells": [
  {
   "cell_type": "code",
   "execution_count": 29,
   "metadata": {},
   "outputs": [
    {
     "name": "stdout",
     "output_type": "stream",
     "text": [
      "37.85431 -122.256007\n",
      "['37.85431', '-122.256007']\n",
      "37.85431\n",
      "-122.256007\n"
     ]
    }
   ],
   "source": [
    "val = '2509 Prince St (outside) (37.85431 -122.256007) Primary Real Time 10_24_2019 10_31_2019.csv'\n",
    "latlon= val[val.rfind(\"(\")+1:val.rfind(\")\")] #rfind finds from the end rather than beginning\n",
    "print(latlon)\n",
    "latlon = latlon.split(' ')\n",
    "print(latlon)\n",
    "\n",
    "lat = latlon[0]\n",
    "lon = latlon[1]\n",
    "print(lat)\n",
    "print(lon)\n",
    "\n"
   ]
  },
  {
   "cell_type": "code",
   "execution_count": 30,
   "metadata": {},
   "outputs": [
    {
     "name": "stdout",
     "output_type": "stream",
     "text": [
      "2509 Prince St (outside) \n"
     ]
    }
   ],
   "source": [
    "#Getting location + outside or inside\n",
    "loc = val[0:val.rfind(\"(\")]\n",
    "#loc = val.split('(')[0]\n",
    "#loc = loc.strip()\n",
    "print(loc)"
   ]
  },
  {
   "cell_type": "code",
   "execution_count": 31,
   "metadata": {},
   "outputs": [
    {
     "name": "stdout",
     "output_type": "stream",
     "text": [
      "2509 Prince St \n"
     ]
    }
   ],
   "source": [
    "#Getting location alone + one space\n",
    "loc = val[0:val.find(\"(\")]\n",
    "#loc = val.split('(')[0]\n",
    "#loc = loc.strip()\n",
    "print(loc)"
   ]
  },
  {
   "cell_type": "code",
   "execution_count": 32,
   "metadata": {},
   "outputs": [
    {
     "name": "stdout",
     "output_type": "stream",
     "text": [
      "2509 Prince St A_37.85431_-122.256007\n"
     ]
    }
   ],
   "source": [
    "#Adding on primary or secondary \n",
    "if \"Primary\" in val:\n",
    "    loc_plus = loc + \"A_\" + lat + '_' + lon\n",
    "elif \"Secondary\" in val:\n",
    "    loc_plus = loc + \"B_\" + lat + '_' + lon\n",
    "print (loc_plus)"
   ]
  },
  {
   "cell_type": "code",
   "execution_count": null,
   "metadata": {},
   "outputs": [],
   "source": []
  },
  {
   "cell_type": "code",
   "execution_count": null,
   "metadata": {},
   "outputs": [],
   "source": []
  }
 ],
 "metadata": {
  "kernelspec": {
   "display_name": "Python 3",
   "language": "python",
   "name": "python3"
  },
  "language_info": {
   "codemirror_mode": {
    "name": "ipython",
    "version": 3
   },
   "file_extension": ".py",
   "mimetype": "text/x-python",
   "name": "python",
   "nbconvert_exporter": "python",
   "pygments_lexer": "ipython3",
   "version": "3.7.4"
  }
 },
 "nbformat": 4,
 "nbformat_minor": 2
}
