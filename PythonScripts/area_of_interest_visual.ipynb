{
 "cells": [
  {
   "cell_type": "code",
   "execution_count": null,
   "metadata": {},
   "outputs": [],
   "source": []
  },
  {
   "cell_type": "code",
   "execution_count": 4,
   "metadata": {},
   "outputs": [],
   "source": [
    "import pandas as pd\n",
    "from shapely.geometry import Polygon, Point\n",
    "import folium\n",
    "import time\n",
    "import datetime\n",
    "import decimal as dec\n",
    "\n",
    "import matplotlib.pyplot as plt\n",
    "import numpy as np\n",
    "\n",
    "import glob\n",
    "import os.path"
   ]
  },
  {
   "cell_type": "code",
   "execution_count": 5,
   "metadata": {},
   "outputs": [],
   "source": [
    "# Path to file. \n",
    "glob_path = 'C:/Users/Katelyn Yu/Documents/GitHub/CE299_Scripts/PurpleAir/*.csv'\n",
    "files = glob.glob(glob_path)"
   ]
  },
  {
   "cell_type": "code",
   "execution_count": 6,
   "metadata": {},
   "outputs": [
    {
     "ename": "IndexError",
     "evalue": "list index out of range",
     "output_type": "error",
     "traceback": [
      "\u001b[1;31m---------------------------------------------------------------------------\u001b[0m",
      "\u001b[1;31mIndexError\u001b[0m                                Traceback (most recent call last)",
      "\u001b[1;32m<ipython-input-6-864de1292479>\u001b[0m in \u001b[0;36m<module>\u001b[1;34m\u001b[0m\n\u001b[0;32m      4\u001b[0m \u001b[1;33m\u001b[0m\u001b[0m\n\u001b[0;32m      5\u001b[0m \u001b[1;32mfor\u001b[0m \u001b[0mname\u001b[0m \u001b[1;32min\u001b[0m \u001b[0mfiles\u001b[0m\u001b[1;33m:\u001b[0m\u001b[1;33m\u001b[0m\u001b[1;33m\u001b[0m\u001b[0m\n\u001b[1;32m----> 6\u001b[1;33m     \u001b[0mname\u001b[0m \u001b[1;33m=\u001b[0m \u001b[0mname\u001b[0m\u001b[1;33m.\u001b[0m\u001b[0msplit\u001b[0m\u001b[1;33m(\u001b[0m\u001b[1;34m'/'\u001b[0m\u001b[1;33m)\u001b[0m\u001b[1;33m[\u001b[0m\u001b[1;36m10\u001b[0m\u001b[1;33m]\u001b[0m\u001b[1;33m\u001b[0m\u001b[1;33m\u001b[0m\u001b[0m\n\u001b[0m\u001b[0;32m      7\u001b[0m     \u001b[1;31m# Split name at '_' to access sensor name, lat, and lon.\u001b[0m\u001b[1;33m\u001b[0m\u001b[1;33m\u001b[0m\u001b[1;33m\u001b[0m\u001b[0m\n\u001b[0;32m      8\u001b[0m     \u001b[0msplit_name\u001b[0m \u001b[1;33m=\u001b[0m \u001b[0mname\u001b[0m\u001b[1;33m.\u001b[0m\u001b[0msplit\u001b[0m\u001b[1;33m(\u001b[0m\u001b[1;34m'_'\u001b[0m\u001b[1;33m)\u001b[0m\u001b[1;33m\u001b[0m\u001b[1;33m\u001b[0m\u001b[0m\n",
      "\u001b[1;31mIndexError\u001b[0m: list index out of range"
     ]
    }
   ],
   "source": [
    "# Get locations from file names.\n",
    "c = 0 # Counter.\n",
    "loc_list = []\n",
    "\n",
    "for name in files:\n",
    "    name = name.split('/')[10]\n",
    "    # Split name at '_' to access sensor name, lat, and lon.\n",
    "    split_name = name.split('_')\n",
    "    \n",
    "    # Get lat and lon.\n",
    "    lat = split_name[-2]\n",
    "    lon = split_name[-1][:-4]\n",
    "    \n",
    "    # Append lat and lon to loc_list.\n",
    "    location = [float(lat), float(lon)]\n",
    "    loc_list.append(location)"
   ]
  },
  {
   "cell_type": "code",
   "execution_count": null,
   "metadata": {},
   "outputs": [],
   "source": [
    "print(loc_list[:5])"
   ]
  },
  {
   "cell_type": "code",
   "execution_count": null,
   "metadata": {},
   "outputs": [],
   "source": [
    "# Region Coordinates.\n",
    "center = (-122.25, 37.825)\n",
    "lon_dist = 0.1\n",
    "lat_dist = 0.075\n",
    "lons = (center[0]-lon_dist, center[0]+lon_dist)\n",
    "lats = (center[1]-lat_dist, center[1]+lat_dist)\n",
    "\n",
    "maxlat = lats[1]\n",
    "maxlon = lons[1]\n",
    "minlat = lats[0]\n",
    "minlon = lons[0]\n",
    "\n",
    "# Make a boundary polygon.\n",
    "ur = [maxlat, maxlon]\n",
    "ul = [maxlat, minlon]\n",
    "br = [minlat, maxlon]\n",
    "bl = [minlat, minlon]\n",
    "\n",
    "poly = [ur, br, bl, ul]\n",
    "sp_poly = Polygon(poly)\n",
    "print(poly)"
   ]
  },
  {
   "cell_type": "code",
   "execution_count": null,
   "metadata": {},
   "outputs": [],
   "source": [
    "# Sensor locations.\n",
    "points = [Point(i) for i in loc_list ]\n",
    "\n",
    "sensors = [i for i in loc_list if sp_poly.contains(Point(i))]\n",
    "\n",
    "latlon = [[i[0],i[1]] for i in sensors]\n",
    "print(latlon[:5])"
   ]
  },
  {
   "cell_type": "code",
   "execution_count": null,
   "metadata": {},
   "outputs": [],
   "source": [
    "# Plot data area.\n",
    "bound_map = folium.Map(location=[37.825, -122.25])\n",
    "folium.Polygon(poly).add_to(bound_map)\n",
    "for i in range(len(latlon)):\n",
    "    folium.CircleMarker(latlon[i], radius=3, color='black', fill=True, fill_color='green', fill_opacity=1,\\\n",
    "                       weight=1).add_to(bound_map)\n",
    "bound_map"
   ]
  },
  {
   "cell_type": "code",
   "execution_count": null,
   "metadata": {},
   "outputs": [],
   "source": []
  }
 ],
 "metadata": {
  "kernelspec": {
   "display_name": "Python 3",
   "language": "python",
   "name": "python3"
  },
  "language_info": {
   "codemirror_mode": {
    "name": "ipython",
    "version": 3
   },
   "file_extension": ".py",
   "mimetype": "text/x-python",
   "name": "python",
   "nbconvert_exporter": "python",
   "pygments_lexer": "ipython3",
   "version": "3.7.4"
  }
 },
 "nbformat": 4,
 "nbformat_minor": 2
}
